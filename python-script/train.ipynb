{
 "cells": [
  {
   "cell_type": "code",
   "execution_count": 1,
   "metadata": {},
   "outputs": [],
   "source": [
    "import numpy as np\n",
    "import pandas as pd\n",
    "import matplotlib.pyplot as plt\n",
    "from sklearn.feature_extraction.text import CountVectorizer\n",
    "from sklearn.ensemble import RandomForestClassifier\n",
    "import re\n",
    "# import nltk\n",
    "from sklearn.model_selection import train_test_split\n",
    "# from nltk.corpus import stopwords\n",
    "import joblib\n",
    "import stopwordsiso as stopwords\n"
   ]
  },
  {
   "cell_type": "code",
   "execution_count": 2,
   "metadata": {},
   "outputs": [],
   "source": [
    "df = pd.read_csv('../dataset/tagged.csv',  delimiter=',', quoting=2, encoding=\"utf-8\")"
   ]
  },
  {
   "cell_type": "code",
   "execution_count": 3,
   "metadata": {},
   "outputs": [
    {
     "data": {
      "text/html": [
       "<div>\n",
       "<style scoped>\n",
       "    .dataframe tbody tr th:only-of-type {\n",
       "        vertical-align: middle;\n",
       "    }\n",
       "\n",
       "    .dataframe tbody tr th {\n",
       "        vertical-align: top;\n",
       "    }\n",
       "\n",
       "    .dataframe thead th {\n",
       "        text-align: right;\n",
       "    }\n",
       "</style>\n",
       "<table border=\"1\" class=\"dataframe\">\n",
       "  <thead>\n",
       "    <tr style=\"text-align: right;\">\n",
       "      <th></th>\n",
       "      <th>sentences</th>\n",
       "      <th>sentiment_tag</th>\n",
       "    </tr>\n",
       "  </thead>\n",
       "  <tbody>\n",
       "    <tr>\n",
       "      <th>0</th>\n",
       "      <td>Enjoying a beautiful day at the park!        ...</td>\n",
       "      <td>2.0</td>\n",
       "    </tr>\n",
       "    <tr>\n",
       "      <th>1</th>\n",
       "      <td>Traffic was terrible this morning.           ...</td>\n",
       "      <td>1.0</td>\n",
       "    </tr>\n",
       "    <tr>\n",
       "      <th>2</th>\n",
       "      <td>Just finished an amazing workout! 💪          ...</td>\n",
       "      <td>2.0</td>\n",
       "    </tr>\n",
       "    <tr>\n",
       "      <th>3</th>\n",
       "      <td>Excited about the upcoming weekend getaway!  ...</td>\n",
       "      <td>2.0</td>\n",
       "    </tr>\n",
       "    <tr>\n",
       "      <th>4</th>\n",
       "      <td>Trying out a new recipe for dinner tonight.  ...</td>\n",
       "      <td>0.0</td>\n",
       "    </tr>\n",
       "  </tbody>\n",
       "</table>\n",
       "</div>"
      ],
      "text/plain": [
       "                                           sentences  sentiment_tag\n",
       "0   Enjoying a beautiful day at the park!        ...            2.0\n",
       "1   Traffic was terrible this morning.           ...            1.0\n",
       "2   Just finished an amazing workout! 💪          ...            2.0\n",
       "3   Excited about the upcoming weekend getaway!  ...            2.0\n",
       "4   Trying out a new recipe for dinner tonight.  ...            0.0"
      ]
     },
     "execution_count": 3,
     "metadata": {},
     "output_type": "execute_result"
    }
   ],
   "source": [
    "df.head(5)"
   ]
  },
  {
   "cell_type": "code",
   "execution_count": 4,
   "metadata": {},
   "outputs": [],
   "source": [
    "stpwrd = stopwords.stopwords(\"en\")"
   ]
  },
  {
   "cell_type": "code",
   "execution_count": 5,
   "metadata": {},
   "outputs": [],
   "source": [
    "def procces_sentence(review:str)->str:\n",
    "    sample_review = re.sub(r'http\\S+', '', review)\n",
    "    sample_review = re.sub(\"[^a-zA-Z]\",' ',sample_review)\n",
    "    sample_review = sample_review.lower()\n",
    "    sample_review = sample_review.split()\n",
    "    # swords = set(stopwords.words(\"english\"))      \n",
    "    swords = set(stpwrd)                                    \n",
    "    sample_review = [w for w in sample_review if w not in swords and len(w) > 1]\n",
    "    sample_review = \" \".join(sample_review)\n",
    "    return sample_review\n",
    "\n",
    "def take_res(count:int)->int:\n",
    "    # sub = df[\"Subjectivity\"][count]\n",
    "    pol = df[\"sentiment_tag\"][count]\n",
    "    return pol\n",
    "    \n",
    "    \n"
   ]
  },
  {
   "cell_type": "code",
   "execution_count": 6,
   "metadata": {},
   "outputs": [
    {
     "name": "stderr",
     "output_type": "stream",
     "text": [
      "  0%|          | 0/50732 [00:00<?, ?it/s]"
     ]
    },
    {
     "name": "stderr",
     "output_type": "stream",
     "text": [
      "100%|██████████| 50732/50732 [00:05<00:00, 8880.61it/s] \n"
     ]
    }
   ],
   "source": [
    "from tqdm import tqdm\n",
    "\n",
    "count_t = 219288\n",
    "\n",
    "trainx = []\n",
    "trainy = []\n",
    "for i in tqdm(range(0,len(df[\"sentences\"]))):\n",
    "    trainx.append(procces_sentence(df[\"sentences\"][i]))\n",
    "    trainy.append(take_res(i))\n",
    "\n"
   ]
  },
  {
   "cell_type": "code",
   "execution_count": 7,
   "metadata": {},
   "outputs": [],
   "source": [
    "trainy = np.array(trainy)\n",
    "train_x, test_x, y_train, y_test = train_test_split(trainx,trainy, test_size = 0.1)\n",
    "vectorizer = CountVectorizer( max_features = 15000 )\n",
    "train_x = vectorizer.fit_transform(train_x)\n",
    "\n"
   ]
  },
  {
   "cell_type": "code",
   "execution_count": 8,
   "metadata": {},
   "outputs": [],
   "source": [
    "test_xx = vectorizer.transform(test_x)\n",
    "test_xx\n",
    "test_xx = test_xx.toarray()"
   ]
  },
  {
   "cell_type": "code",
   "execution_count": null,
   "metadata": {},
   "outputs": [
    {
     "name": "stdout",
     "output_type": "stream",
     "text": [
      "Logistic Regressor: Accuracy = 0.8657863618446985\n",
      "Random Forest Classifier: Accuracy = 0.8415451320457233\n",
      "Extra Trees Classifier: Accuracy = 0.8624359479700433\n",
      "AdaBoost Classifier: Accuracy = 0.6424911312573907\n",
      "Decision Tree Classifier: Accuracy = 0.7049664958612535\n",
      "K Neighbors Classifier: Accuracy = 0.5474970437524636\n",
      "CatBoost Classifier: Accuracy = 0.8486401261332283\n"
     ]
    },
    {
     "name": "stderr",
     "output_type": "stream",
     "text": [
      "f:\\code\\My GitHub\\sentence-analysis-updated\\.venv\\Lib\\site-packages\\xgboost\\core.py:158: UserWarning: [17:39:46] WARNING: C:\\buildkite-agent\\builds\\buildkite-windows-cpu-autoscaling-group-i-0c55ff5f71b100e98-1\\xgboost\\xgboost-ci-windows\\src\\learner.cc:740: \n",
      "Parameters: { \"use_label_encoder\" } are not used.\n",
      "\n",
      "  warnings.warn(smsg, UserWarning)\n"
     ]
    },
    {
     "name": "stdout",
     "output_type": "stream",
     "text": [
      "XGBoost Classifier: Accuracy = 0.4966495861253449\n",
      "Classification Results:\n",
      "                          Accuracy\n",
      "Logistic Regressor        0.865786\n",
      "Random Forest Classifier  0.841545\n",
      "Extra Trees Classifier    0.862436\n",
      "AdaBoost Classifier       0.642491\n",
      "Decision Tree Classifier  0.704966\n",
      "K Neighbors Classifier    0.547497\n",
      "CatBoost Classifier       0.848640\n",
      "XGBoost Classifier        0.496650\n"
     ]
    }
   ],
   "source": [
    "from sklearn.linear_model import LogisticRegression\n",
    "from sklearn.ensemble import RandomForestClassifier, AdaBoostClassifier, ExtraTreesClassifier\n",
    "from sklearn.tree import DecisionTreeClassifier\n",
    "from sklearn.neighbors import KNeighborsClassifier\n",
    "from sklearn.metrics import accuracy_score\n",
    "from xgboost import XGBClassifier\n",
    "from catboost import CatBoostClassifier\n",
    "import pandas as pd\n",
    "import numpy as np\n",
    "import joblib\n",
    "\n",
    "# Sınıflandırma modelleri\n",
    "models = {\n",
    "    'Logistic Regressor': LogisticRegression(max_iter=1000),\n",
    "    'Random Forest Classifier': RandomForestClassifier(),\n",
    "    'Extra Trees Classifier': ExtraTreesClassifier(),\n",
    "    'AdaBoost Classifier': AdaBoostClassifier(),\n",
    "    'Decision Tree Classifier': DecisionTreeClassifier(),\n",
    "    'K Neighbors Classifier': KNeighborsClassifier(),\n",
    "    'CatBoost Classifier': CatBoostClassifier(learning_rate=0.1, depth=6, iterations=500, verbose=0),\n",
    "    'XGBoost Classifier': XGBClassifier(use_label_encoder=False, eval_metric='logloss')\n",
    "}\n",
    "\n",
    "results_classification = {}\n",
    "\n",
    "# Eğitim ve test\n",
    "for name, model in models.items():\n",
    "    model.fit(train_x, y_train)  # Y_train bir tek boyutlu sınıf etiketi vektörü olmalıdır\n",
    "    y_pred = model.predict(test_xx)\n",
    "    acc = accuracy_score(y_test, y_pred)\n",
    "    results_classification[name] = {'Accuracy': acc}\n",
    "    joblib.dump(model, name)\n",
    "    print(f'{name}: Accuracy = {acc}')\n",
    "\n",
    "# Sonuçları DataFrame'e dönüştürme\n",
    "results_classification_df = pd.DataFrame(results_classification).T\n",
    "\n",
    "print(\"Classification Results:\")\n",
    "print(results_classification_df)\n"
   ]
  },
  {
   "cell_type": "code",
   "execution_count": null,
   "metadata": {},
   "outputs": [],
   "source": [
    "from sklearn.linear_model import LinearRegression\n",
    "from sklearn.neighbors import KNeighborsClassifier\n",
    "\n",
    "\n",
    "model = CatBoostClassifier(learning_rate=0.1, depth=12, iterations=500, verbose=0)\n",
    "model.fit(train_x, y_train)\n"
   ]
  },
  {
   "cell_type": "code",
   "execution_count": 16,
   "metadata": {},
   "outputs": [
    {
     "name": "stdout",
     "output_type": "stream",
     "text": [
      "Predicted Sentiment: [2.]\n",
      "Probabilities: [[0.4 0.  0.6]]\n"
     ]
    }
   ],
   "source": [
    "new_sentence = \"I had a wonderful experience at the park!\"\n",
    "\n",
    "processed_sentence = procces_sentence(new_sentence)\n",
    "\n",
    "vectorized_sentence = vectorizer.transform([processed_sentence]).toarray()\n",
    "\n",
    "prediction = model.predict(vectorized_sentence)\n",
    "probabilities = model.predict_proba(vectorized_sentence)\n",
    "\n",
    "print(f\"Predicted Sentiment: {prediction}\")\n",
    "print(f\"Probabilities: {probabilities}\")\n"
   ]
  },
  {
   "cell_type": "code",
   "execution_count": 20,
   "metadata": {},
   "outputs": [
    {
     "name": "stdout",
     "output_type": "stream",
     "text": [
      "Logistic Regressor: Probabilities: [[0.49674539 0.06309844 0.44015616]]\n",
      "Random Forest Classifier: Probabilities: [[0.26 0.02 0.72]]\n",
      "Extra Trees Classifier: Probabilities: [[0.19 0.01 0.8 ]]\n",
      "AdaBoost Classifier: Probabilities: [[0.31902836 0.33740336 0.34356828]]\n",
      "Decision Tree Classifier: Probabilities: [[0. 0. 1.]]\n",
      "K Neighbors Classifier: Probabilities: [[0.4 0.  0.6]]\n",
      "CatBoost Classifier: Probabilities: [[0.2071097  0.17276459 0.6201257 ]]\n",
      "XGBoost Classifier: Probabilities: [[0.0530788  0.6142782  0.33264294]]\n"
     ]
    }
   ],
   "source": [
    "new_sentence = \"I had a wonderful experience at the park!\"\n",
    "\n",
    "processed_sentence = procces_sentence(new_sentence)\n",
    "\n",
    "vectorized_sentence = vectorizer.transform([processed_sentence]).toarray()\n",
    "\n",
    "for name, model in models.items():\n",
    "    prediction = model.predict(vectorized_sentence)\n",
    "    probabilities = model.predict_proba(vectorized_sentence)\n",
    "\n",
    "    # print(f\"{name}: Predicted Sentiment: {prediction}\")\n",
    "    print(f\"{name}: Probabilities: {probabilities}\")"
   ]
  }
 ],
 "metadata": {
  "kernelspec": {
   "display_name": "Python 3",
   "language": "python",
   "name": "python3"
  },
  "language_info": {
   "codemirror_mode": {
    "name": "ipython",
    "version": 3
   },
   "file_extension": ".py",
   "mimetype": "text/x-python",
   "name": "python",
   "nbconvert_exporter": "python",
   "pygments_lexer": "ipython3",
   "version": "3.9.0"
  }
 },
 "nbformat": 4,
 "nbformat_minor": 2
}
